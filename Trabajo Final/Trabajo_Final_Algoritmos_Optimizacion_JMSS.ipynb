{
  "nbformat": 4,
  "nbformat_minor": 0,
  "metadata": {
    "colab": {
      "name": "Trabajo Final - Algoritmos_Optimizacion_JMSS.ipynb",
      "provenance": [],
      "collapsed_sections": [],
      "include_colab_link": true
    },
    "kernelspec": {
      "name": "python3",
      "display_name": "Python 3"
    }
  },
  "cells": [
    {
      "cell_type": "markdown",
      "metadata": {
        "id": "view-in-github",
        "colab_type": "text"
      },
      "source": [
        "<a href=\"https://colab.research.google.com/github/jmss13/03MAIR-Algoritmos-de-Optimizacion/blob/main/Trabajo%20Final/Trabajo_Final_Algoritmos_Optimizacion_JMSS.ipynb\" target=\"_parent\"><img src=\"https://colab.research.google.com/assets/colab-badge.svg\" alt=\"Open In Colab\"/></a>"
      ]
    },
    {
      "cell_type": "markdown",
      "metadata": {
        "id": "hVbXYX-RfPWh"
      },
      "source": [
        "# Algoritmos de optimización - Seminario<br>\n",
        "Nombre y Apellidos: José Miguel Sánchez Sánchez  <br>\n",
        "Url: https://github.com/jmss13/03MAIR-Algoritmos-de-Optimizacion<br>\n",
        "Problema:\n",
        ">3. Combinar cifras y operaciones\n",
        "\n",
        "Descripción del problema:(copiar enunciado)\n",
        "\n",
        "El problema consiste en analizar el siguiente problema y diseñar un algoritmo que lo resuelva. • Disponemos de las 9 cifras del 1 al 9 (excluimos el cero) y de los 4 signos básicos de las operaciones fundamentales: suma(+), resta(-), multiplicación() y división(/) • Debemos combinarlos alternativamente sin repetir ninguno de ellos para obtener una cantidad dada. Un ejemplo sería para obtener el 4: 4+2-6/31 = 4\n",
        "\n",
        "Debe analizarse el problema para encontrar todos los valores enteros posibles planteando las siguientes cuestiones:\n",
        "\n",
        "1. ¿Qué valor máximo y mínimo se pueden obtener según las condiciones del problema?\n",
        "2. ¿Es posible encontrar todos los valores enteros posibles entre dicho mínimo y máximo ? \n",
        "\n",
        "\n",
        "(*) La respuesta es obligatoria\n",
        "\n",
        "\n",
        "\n",
        "\n",
        "\n",
        "                                        "
      ]
    },
    {
      "cell_type": "markdown",
      "source": [
        "Respuesta:\n",
        "\n",
        "El modelo del problema se basa en realizar permutaciones sin repetición tanto de una secuencia de números como de operaciones. Para ello, vamos a emplear en varios de los apartados la función permutations de la librería itertools. Además, usaremos arrays de numpy para poder guardar las permutaciones obtenidas."
      ],
      "metadata": {
        "id": "XNZcL81r5kSp"
      }
    },
    {
      "cell_type": "code",
      "source": [
        "from itertools import permutations \n",
        "import math as math\n",
        "import random\n",
        "import numpy as np"
      ],
      "metadata": {
        "id": "jvdxW5FZjiRm"
      },
      "execution_count": 58,
      "outputs": []
    },
    {
      "cell_type": "markdown",
      "source": [
        "¿Qué valor máximo y mínimo se pueden obtener según las condiciones del problema?\n"
      ],
      "metadata": {
        "id": "sW8BmhIXlSbI"
      }
    },
    {
      "cell_type": "code",
      "source": [
        "def permutaciones_transformar_array(permutaciones):\n",
        "  array_new = []\n",
        "  \n",
        "  for i in permutaciones:\n",
        "    array_new.append(i)\n",
        "\n",
        "  return array_new"
      ],
      "metadata": {
        "id": "LN4GXOVlya9L"
      },
      "execution_count": 78,
      "outputs": []
    },
    {
      "cell_type": "code",
      "source": [
        "operaciones = ['+','-','*','/']\n",
        "numeros = ['1','2','3','4','5','6','7','8','9']\n",
        "\n",
        "permutaciones_operaciones = permutations(operaciones,4)\n",
        "permutaciones_numeros = permutations(numeros,5) \n",
        "\n",
        "maximo = 0\n",
        "minimo = 0\n",
        "\n",
        "permutaciones_numeros_arr = permutaciones_transformar_array(permutaciones_numeros)\n",
        "permutaciones_operaciones_arr = permutaciones_transformar_array(permutaciones_operaciones)\n",
        "\n",
        "for i in permutaciones_operaciones_arr:\n",
        "  for j in permutaciones_numeros_arr: \n",
        "    solucion_posible = j[0]+i[0]+j[1]+i[1]+j[2]+i[2]+j[3]+i[3]+j[4]\n",
        "\n",
        "    if maximo < eval(solucion_posible):\n",
        "      maximo = eval(solucion_posible)\n",
        "\n",
        "    if minimo > eval(solucion_posible):\n",
        "      minimo = eval(solucion_posible)\n",
        "\n",
        "print('El rango de números que abarca el problema: [',int(minimo),',',int(maximo),']')"
      ],
      "metadata": {
        "colab": {
          "base_uri": "https://localhost:8080/"
        },
        "id": "QbgZ3bCCgDVH",
        "outputId": "8a1a86a1-5a78-4aab-a467-ccdc187a9ba3"
      },
      "execution_count": 80,
      "outputs": [
        {
          "output_type": "stream",
          "name": "stdout",
          "text": [
            "El rango de números que abarca el problema: [ -70 , 78 ]\n"
          ]
        }
      ]
    },
    {
      "cell_type": "markdown",
      "source": [
        "¿Es posible encontrar todos los valores enteros posibles entre dicho mínimo y máximo ? \n",
        "\n",
        "Para ello, vamos a estudiar si los extremos entran dentro del rango o el rango sería (-70.78), que es lo mismo que decir [-69, 77]."
      ],
      "metadata": {
        "id": "vQEyrMgW5kVR"
      }
    },
    {
      "cell_type": "code",
      "source": [
        "#Llamamos a la función creado en el apartado de fuerza bruta parta comprobar si tiene solución el extremo inferior:\n",
        "#Nota: hay que ejecutar previamente la celda del apartado de fuerza bruta\n",
        "\n",
        "resultado = -70\n",
        "print('La solución encontrada para el extremo inferior',resultado,'ha sido:',solucionEncontrada(resultado)) "
      ],
      "metadata": {
        "colab": {
          "base_uri": "https://localhost:8080/"
        },
        "id": "h2M9ZwodmIXz",
        "outputId": "ebc2bbe9-b0ad-47d1-f4b5-50566efb8c75"
      },
      "execution_count": 31,
      "outputs": [
        {
          "output_type": "stream",
          "name": "stdout",
          "text": [
            "La solución encontrada para el extremo inferior -70 ha sido: None\n"
          ]
        }
      ]
    },
    {
      "cell_type": "code",
      "source": [
        "#Llamamos a la función creado en el apartado de fuerza bruta parta comprobar si tiene solución el siguiente número al extremo inferior:\n",
        "#Nota: hay que ejecutar previamente la celda del apartado de fuerza bruta\n",
        "\n",
        "resultado = -69\n",
        "print('La solución encontrada para el número',resultado,'ha sido:',solucionEncontrada(resultado)) "
      ],
      "metadata": {
        "colab": {
          "base_uri": "https://localhost:8080/"
        },
        "id": "pd69r1QPm3Fe",
        "outputId": "0d81ca08-8bb7-471f-9ec4-3216af20aad2"
      },
      "execution_count": 34,
      "outputs": [
        {
          "output_type": "stream",
          "name": "stdout",
          "text": [
            "La solución encontrada para el número -69 ha sido: 1+4/2-8*9\n"
          ]
        }
      ]
    },
    {
      "cell_type": "code",
      "source": [
        "#Llamamos a la función creado en el apartado de fuerza bruta parta comprobar si tiene solución el extremo superior:\n",
        "#Nota: hay que ejecutar previamente la celda del apartado de fuerza bruta\n",
        "\n",
        "resultado = 78\n",
        "print('La solución encontrada para el número',resultado,'ha sido:',solucionEncontrada(resultado)) "
      ],
      "metadata": {
        "colab": {
          "base_uri": "https://localhost:8080/"
        },
        "id": "azWtFp_NmrfM",
        "outputId": "59a4928a-8af3-4800-cfc8-4da01b4fd8a6"
      },
      "execution_count": 35,
      "outputs": [
        {
          "output_type": "stream",
          "name": "stdout",
          "text": [
            "La solución encontrada para el número 78 ha sido: None\n"
          ]
        }
      ]
    },
    {
      "cell_type": "code",
      "source": [
        "#Llamamos a la función creado en el apartado de fuerza bruta parta comprobar si tiene solución el siguiente número al extremo superior:\n",
        "#Nota: hay que ejecutar previamente la celda del apartado de fuerza bruta\n",
        "\n",
        "resultado = 77\n",
        "print('La solución encontrada para el extremo inferior',resultado,'ha sido:',solucionEncontrada(resultado)) "
      ],
      "metadata": {
        "colab": {
          "base_uri": "https://localhost:8080/"
        },
        "id": "mihAXHb_nDGr",
        "outputId": "7da9bfc2-0e9c-40b5-9928-fbc18b866111"
      },
      "execution_count": 36,
      "outputs": [
        {
          "output_type": "stream",
          "name": "stdout",
          "text": [
            "La solución encontrada para el extremo inferior 77 ha sido: 7+8*9-2/1\n"
          ]
        }
      ]
    },
    {
      "cell_type": "markdown",
      "source": [
        "Se concluye que el intervalo de número enteros es [-69, 77]"
      ],
      "metadata": {
        "id": "NYRDoNdinW8z"
      }
    },
    {
      "cell_type": "markdown",
      "metadata": {
        "id": "3_-exlrTgLd-"
      },
      "source": [
        "(*)¿Cuantas posibilidades hay sin tener en cuenta las restricciones?<br>\n",
        "\n",
        "\n",
        "\n",
        "¿Cuantas posibilidades hay teniendo en cuenta todas las restricciones.\n",
        "\n",
        "\n"
      ]
    },
    {
      "cell_type": "markdown",
      "metadata": {
        "id": "WfCUqJyKhPcw"
      },
      "source": [
        "Respuesta:"
      ]
    },
    {
      "cell_type": "code",
      "metadata": {
        "id": "iq6Fe32MgpDX",
        "colab": {
          "base_uri": "https://localhost:8080/"
        },
        "outputId": "df9187ce-1ad3-4d6a-fedc-cceeb5eb682e"
      },
      "source": [
        "#Sin restricciones se emplearía combinaciones con repetición para los números y operaciones:\n",
        "\n",
        "combinaciones_numeros = pow(9,5)\n",
        "combinaciones_operaciones = pow(4,4)\n",
        "\n",
        "print('Numero de posibilidades sin restricciones:', combinaciones_numeros*combinaciones_operaciones)"
      ],
      "execution_count": 42,
      "outputs": [
        {
          "output_type": "stream",
          "name": "stdout",
          "text": [
            "Numero de posibilidades sin restricciones: 15116544\n"
          ]
        }
      ]
    },
    {
      "cell_type": "code",
      "source": [
        "#Con restricciones se emplearía permutaciones sin repetición para los números y operaciones:\n",
        "#permutaciones_numeros = 9!/(9!-5!) = 9!/4!\n",
        "#permutaciones_operaciones = 4!/0! = 4!\n",
        "#posibilidades = 9!\n",
        "\n",
        "print('Numero de posibilidades con restricciones:',math.factorial(9))"
      ],
      "metadata": {
        "colab": {
          "base_uri": "https://localhost:8080/"
        },
        "id": "rXrunE5Lo1oF",
        "outputId": "fd20b10c-de58-4239-adb0-ba379db9251b"
      },
      "execution_count": 43,
      "outputs": [
        {
          "output_type": "stream",
          "name": "stdout",
          "text": [
            "Numero de posibilidades con restricciones: 362880\n"
          ]
        }
      ]
    },
    {
      "cell_type": "markdown",
      "metadata": {
        "id": "dzynfVJahHoY"
      },
      "source": [
        "Modelo para el espacio de soluciones<br>\n",
        "(*) ¿Cual es la estructura de datos que mejor se adapta al problema? Argumentalo.(Es posible que hayas elegido una al principio y veas la necesidad de cambiar, arguentalo)\n"
      ]
    },
    {
      "cell_type": "markdown",
      "metadata": {
        "id": "xFIJrOwKi2Ti"
      },
      "source": [
        "Respuesta:"
      ]
    },
    {
      "cell_type": "markdown",
      "source": [
        "Durante el trabajo se ha usado array numpy para guardar y manipular las distintas permutaciones de operaciones y números. El principal motivos es su fácil manejabilidad y sencillez a la hora de añadir o modificar entradas de la estructura de datos que son strings. Son necesarios ya que el valor que se obtiene de la funcion permutation no te permitía manejar bucles."
      ],
      "metadata": {
        "id": "7JiHDyCwqfDz"
      }
    },
    {
      "cell_type": "markdown",
      "metadata": {
        "id": "7Z9U2W7bi-XS"
      },
      "source": [
        "Según el modelo para el espacio de soluciones<br>\n",
        "(*)¿Cual es la función objetivo?\n",
        "\n",
        "(*)¿Es un problema de maximización o minimización?"
      ]
    },
    {
      "cell_type": "markdown",
      "source": [
        "Respuesta:"
      ],
      "metadata": {
        "id": "F9QQZVewniNZ"
      }
    },
    {
      "cell_type": "markdown",
      "metadata": {
        "id": "hBalWLM7j1_d"
      },
      "source": [
        "El modelo carece de función objetivo ya que es un algoritmo de búsqueda que pretende encontrar una solución para el resultado dado. Por lo tanto, no está enfocado en un problema de maximización o minimización."
      ]
    },
    {
      "cell_type": "markdown",
      "metadata": {
        "id": "rlnTYgY1j6I2"
      },
      "source": [
        "Diseña un algoritmo para resolver el problema por fuerza bruta"
      ]
    },
    {
      "cell_type": "markdown",
      "source": [
        "Respuesta:"
      ],
      "metadata": {
        "id": "NVQSUPcE5tq6"
      }
    },
    {
      "cell_type": "code",
      "source": [
        "def permutaciones_transformar_array(permutaciones):\n",
        "  array_new = []\n",
        "  \n",
        "  for i in permutaciones:\n",
        "    array_new.append(i)\n",
        "\n",
        "  return array_new\n",
        "\n",
        "def solucionEncontrada(resultado, permutaciones_numeros, permutaciones_operaciones):\n",
        "\n",
        " for i in permutaciones_operaciones:\n",
        "  for j in permutaciones_numeros:\n",
        "    posible_solucion = j[0]+i[0]+j[1]+i[1]+j[2]+i[2]+j[3]+i[3]+j[4]\n",
        "    if eval(posible_solucion) == resultado:\n",
        "      return(posible_solucion)"
      ],
      "metadata": {
        "id": "YmPIgpRzzabZ"
      },
      "execution_count": 248,
      "outputs": []
    },
    {
      "cell_type": "code",
      "source": [
        "numeros = ['1','2','3','4','5','6','7','8','9']\n",
        "operaciones = ['+','-','*','/']\n",
        "\n",
        "permutaciones_numeros_arr = permutaciones_transformar_array(permutations(numeros,5))\n",
        "permutaciones_operaciones_arr = permutaciones_transformar_array(permutations(operaciones,4))\n",
        "\n",
        "resultado = 22\n",
        "print('La solución encontrada para el número',resultado,'ha sido:',solucionEncontrada(resultado,permutaciones_numeros_arr,permutaciones_operaciones_arr))"
      ],
      "metadata": {
        "colab": {
          "base_uri": "https://localhost:8080/"
        },
        "id": "DpBU8G8zrlcs",
        "outputId": "0c8bfd5c-1c65-4b7b-f72f-586eb2689571"
      },
      "execution_count": 249,
      "outputs": [
        {
          "output_type": "stream",
          "name": "stdout",
          "text": [
            "La solución encontrada para el número 22 ha sido: 1+3*8-6/2\n"
          ]
        }
      ]
    },
    {
      "cell_type": "markdown",
      "metadata": {
        "id": "tgrnsC2nkFa8"
      },
      "source": [
        "Calcula la complejidad del algoritmo por fuerza bruta"
      ]
    },
    {
      "cell_type": "markdown",
      "source": [
        "Respuesta:"
      ],
      "metadata": {
        "id": "JopUm_Bb5wUN"
      }
    },
    {
      "cell_type": "markdown",
      "source": [
        "El algoritmo presenta una complejidad de orden factorial, O(n!), debido al uso de permutaciones para obtener las diferentes combinaciones de números y operaciones sin repetición. "
      ],
      "metadata": {
        "id": "JG83sXyv2RQd"
      }
    },
    {
      "cell_type": "markdown",
      "metadata": {
        "id": "txbrmLmskReM"
      },
      "source": [
        "(*)Diseña un algoritmo que mejore la complejidad del algortimo por fuerza bruta. Argumenta porque crees que mejora el algoritmo por fuerza bruta"
      ]
    },
    {
      "cell_type": "markdown",
      "source": [
        "Respuesta:"
      ],
      "metadata": {
        "id": "8LwzazR05ygS"
      }
    },
    {
      "cell_type": "code",
      "source": [
        "global combinaciones\n",
        "\n",
        "#Generar combinaciones aleatorias con repetición\n",
        "def generar_combinaciones(elementos,combinacion_generada,k):\n",
        "\n",
        "  n = len(elementos)\n",
        "\n",
        "  if(k==0):\n",
        "    combinaciones.append(combinacion_generada)\n",
        "    return \n",
        "\n",
        "  for i in range(n):\n",
        "    nueva_combinacion_gen = combinacion_generada + elementos[i]\n",
        "    generar_combinaciones(elementos, nueva_combinacion_gen,k-1)\n",
        "\n",
        "#Obtener las permutaciones sin repetición\n",
        "def generar_permutaciones_sin_rep(combinaciones):\n",
        "\n",
        "  permutaciones_sin_rep = []\n",
        "  for i in combinaciones:\n",
        "    if comprobacion(i):\n",
        "      permutaciones_sin_rep.append(i)\n",
        "  return permutaciones_sin_rep\n",
        "\n",
        "def comprobacion(comb):\n",
        "\n",
        "  n=[]\n",
        "  comprobador = True\n",
        "\n",
        "  for i in comb:\n",
        "    if i not in n:\n",
        "        n.append(i)\n",
        "    else:\n",
        "      comprobador = False\n",
        "        \n",
        "  return comprobador\n",
        "\n",
        "def solucionEncontrada(resultado, permutaciones_operaciones, permutaciones_numeros):\n",
        "  \n",
        "  for i in permutaciones_operaciones:\n",
        "    for j in permutaciones_numeros:\n",
        "       posible_solucion = j[0]+i[0]+j[1]+i[1]+j[2]+i[2]+j[3]+i[3]+j[4]\n",
        "       if resultado == eval(posible_solucion):\n",
        "         return(posible_solucion)\n",
        "\n"
      ],
      "metadata": {
        "id": "D5zPWmhNwEVM"
      },
      "execution_count": 273,
      "outputs": []
    },
    {
      "cell_type": "code",
      "source": [
        "numeros = ['1','2','3','4','5','6','7','8','9']\n",
        "operaciones = ['+','-','*','/']\n",
        "k1, k2 =5, 4\n",
        "combinacion_generada = \"\"\n",
        "\n",
        "combinaciones = []\n",
        "generar_combinaciones(numeros,combinacion_generada,k1)\n",
        "permutaciones_numeros = generar_permutaciones_sin_rep(combinaciones)\n",
        "\n",
        "combinaciones = []\n",
        "generar_combinaciones(operaciones,combinacion_generada,k2)\n",
        "permutaciones_operaciones = generar_permutaciones_sin_rep(combinaciones)\n",
        "\n",
        "resultado = 22\n",
        "print('La solución encontrada para el número',resultado,'ha sido:',solucionEncontrada(resultado, permutaciones_operaciones, permutaciones_numeros))"
      ],
      "metadata": {
        "colab": {
          "base_uri": "https://localhost:8080/"
        },
        "id": "7EFtEgHffVL4",
        "outputId": "93fb1af8-ce90-401b-8f04-33a3e64502a7"
      },
      "execution_count": 274,
      "outputs": [
        {
          "output_type": "stream",
          "name": "stdout",
          "text": [
            "La solución encontrada para el número 22 ha sido: 1+3*8-6/2\n"
          ]
        }
      ]
    },
    {
      "cell_type": "markdown",
      "metadata": {
        "id": "eGDB4K6uk1iN"
      },
      "source": [
        "(*)Calcula la complejidad del algoritmo "
      ]
    },
    {
      "cell_type": "markdown",
      "metadata": {
        "id": "NhpTh_BPk1ms"
      },
      "source": [
        "Respuesta:"
      ]
    },
    {
      "cell_type": "markdown",
      "source": [
        "La sustitución de la función permtutation, usada en el algoritmo de fuerza bruta, por recursividad y bucles for han reducido la complejidad del algoritmo de orden factorial a polinomial. "
      ],
      "metadata": {
        "id": "gDx-vSPySNjl"
      }
    },
    {
      "cell_type": "markdown",
      "metadata": {
        "id": "3M6QjTsSkmYe"
      },
      "source": [
        "Según el problema (y tenga sentido), diseña un juego de datos de entrada aleatorios"
      ]
    },
    {
      "cell_type": "markdown",
      "metadata": {
        "id": "Jc3_OlyNkvjZ"
      },
      "source": [
        "Respuesta:"
      ]
    },
    {
      "cell_type": "code",
      "metadata": {
        "id": "sJ-N2etjkyWc"
      },
      "source": [
        "def generador_resultados(numero_resultados):\n",
        "  for i in range(0, numero_resultados):\n",
        "    resultado = random.randint(-80, 80)\n",
        "\n",
        "    print('La solución del valor',resultado,':',solucionEncontrada(resultado,permutaciones_operaciones,permutaciones_numeros))"
      ],
      "execution_count": 275,
      "outputs": []
    },
    {
      "cell_type": "markdown",
      "metadata": {
        "id": "zy5ZROmjlGo1"
      },
      "source": [
        "Aplica el algoritmo al juego de datos generado"
      ]
    },
    {
      "cell_type": "markdown",
      "metadata": {
        "id": "_Cmj-PVylMsa"
      },
      "source": [
        "Respuesta:"
      ]
    },
    {
      "cell_type": "code",
      "metadata": {
        "id": "Jkx8GeiYlUz1",
        "colab": {
          "base_uri": "https://localhost:8080/"
        },
        "outputId": "5ad08c9a-0029-487e-a5be-ed734f964e24"
      },
      "source": [
        "generador_resultados(10)"
      ],
      "execution_count": 276,
      "outputs": [
        {
          "output_type": "stream",
          "name": "stdout",
          "text": [
            "La solución del valor -52 : 3+8-7*9/1\n",
            "La solución del valor 60 : 1+7*9-8/2\n",
            "La solución del valor 65 : 4+7*9-2/1\n",
            "La solución del valor 5 : 1+5-2*3/6\n",
            "La solución del valor -38 : 3+4-5*9/1\n",
            "La solución del valor -19 : 1+4-6*8/2\n",
            "La solución del valor 59 : 2+7*9-6/1\n",
            "La solución del valor -62 : 3+7-8*9/1\n",
            "La solución del valor -54 : 3+6-7*9/1\n",
            "La solución del valor 4 : 1+4-2*3/6\n"
          ]
        }
      ]
    },
    {
      "cell_type": "markdown",
      "metadata": {
        "id": "eTFWUJQrtGcv"
      },
      "source": [
        "Enumera las referencias que has utilizado(si ha sido necesario) para llevar a cabo el trabajo"
      ]
    },
    {
      "cell_type": "markdown",
      "metadata": {
        "id": "YKQ_mRBttWsP"
      },
      "source": [
        "Respuesta:"
      ]
    },
    {
      "cell_type": "markdown",
      "metadata": {
        "id": "kAkDPUyRtYyH"
      },
      "source": [
        "Describe brevemente las lineas de como crees que es posible avanzar en el estudio del problema. Ten en cuenta incluso posibles variaciones del problema y/o variaciones al alza del tamaño"
      ]
    },
    {
      "cell_type": "markdown",
      "metadata": {
        "id": "IE0uZmo-tZu-"
      },
      "source": [
        "Respuesta:"
      ]
    },
    {
      "cell_type": "markdown",
      "source": [
        "Al tratarse de un problema que soluciona con un algoritmo de búsqueda, se podría implementar un árbol de decisión de expansión o de amplitud y valorar la complejidad.\n",
        "\n",
        "Aunque no es un problema de optimización, se podría introducir más restricciones, a parte de que las combinaciones no se repitan, para poder establecer menos combinaciones y reducir el tamaño en memoria. Podría ser el caso de establecer el operador multiplicador o divisor como los nodos raíces del árbol y a partir de ahí generar el resto de soluciones. O el número 9 como el nodo raíz por ser el más alto de la secuencia. raíz"
      ],
      "metadata": {
        "id": "e2NIsv38TK1n"
      }
    }
  ]
}